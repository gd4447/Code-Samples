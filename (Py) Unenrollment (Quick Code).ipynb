{
 "cells": [
  {
   "cell_type": "markdown",
   "metadata": {},
   "source": [
    "Housekeeping"
   ]
  },
  {
   "cell_type": "code",
   "execution_count": 2,
   "metadata": {},
   "outputs": [],
   "source": [
    "import pandas as pd\n",
    "import numpy as np\n",
    "import matplotlib.pyplot as plt\n",
    "pd.set_option('display.expand_frame_repr', False)"
   ]
  },
  {
   "cell_type": "markdown",
   "metadata": {},
   "source": [
    "Load File"
   ]
  },
  {
   "cell_type": "code",
   "execution_count": 3,
   "metadata": {},
   "outputs": [],
   "source": [
    "data = pd.read_csv('product_unenrollment_data.csv', index_col=0)"
   ]
  },
  {
   "cell_type": "markdown",
   "metadata": {},
   "source": [
    "Run Summary Statistics"
   ]
  },
  {
   "cell_type": "code",
   "execution_count": 4,
   "metadata": {},
   "outputs": [
    {
     "name": "stdout",
     "output_type": "stream",
     "text": [
      "<class 'pandas.core.frame.DataFrame'>\n",
      "Int64Index: 10000 entries, 1 to 10000\n",
      "Data columns (total 14 columns):\n",
      " #   Column                          Non-Null Count  Dtype  \n",
      "---  ------                          --------------  -----  \n",
      " 0   age_nr                          10000 non-null  int64  \n",
      " 1   invest_exp_nm                   8018 non-null   object \n",
      " 2   trades_6mo_nr                   10000 non-null  int64  \n",
      " 3   web_logins_3mo_nr               10000 non-null  int64  \n",
      " 4   app_logins_3mo_nr               10000 non-null  int64  \n",
      " 5   total_assets_am                 10000 non-null  float64\n",
      " 6   product_assets_am               10000 non-null  float64\n",
      " 7   net_new_assets_am               10000 non-null  float64\n",
      " 8   total_portfolio_return_1yr_pct  10000 non-null  float64\n",
      " 9   product_tenure_mths_nr          10000 non-null  int64  \n",
      " 10  calls_12mo_nr                   10000 non-null  int64  \n",
      " 11  emails_12mo_nr                  10000 non-null  int64  \n",
      " 12  meetings_12mo_nr                10000 non-null  int64  \n",
      " 13  unenrollment_in                 10000 non-null  int64  \n",
      "dtypes: float64(4), int64(9), object(1)\n",
      "memory usage: 1.1+ MB\n"
     ]
    }
   ],
   "source": [
    "deets = data.info()"
   ]
  },
  {
   "cell_type": "code",
   "execution_count": 5,
   "metadata": {},
   "outputs": [
    {
     "name": "stdout",
     "output_type": "stream",
     "text": [
      "             age_nr  trades_6mo_nr  web_logins_3mo_nr  app_logins_3mo_nr  total_assets_am  product_assets_am  net_new_assets_am  total_portfolio_return_1yr_pct  product_tenure_mths_nr  calls_12mo_nr  emails_12mo_nr  meetings_12mo_nr  unenrollment_in\n",
      "count  10000.000000   10000.000000       10000.000000       10000.000000     1.000000e+04       1.000000e+04       1.000000e+04                    10000.000000            10000.000000   10000.000000    10000.000000      10000.000000     10000.000000\n",
      "mean      65.392500      10.002600           8.996900           6.998000     2.292031e+06       1.869727e+06       9.291974e+04                        0.069865               92.645600       9.003200       24.001100          6.000200         0.092800\n",
      "std       13.919347       3.163288           2.996997           2.642327     4.132888e+06       3.002134e+06       1.592311e+05                        0.029963               83.158632       3.007373        4.898806          2.448224         0.290166\n",
      "min       18.000000       1.000000           1.000000           0.000000     1.000179e+04       1.000179e+04      -1.297847e+05                       -0.053000                0.000000       0.000000        8.000000          0.000000         0.000000\n",
      "25%       56.000000       8.000000           7.000000           5.000000     8.665636e+05       7.716312e+05       2.481122e+04                        0.049500               24.000000       7.000000       21.000000          4.000000         0.000000\n",
      "50%       67.000000      10.000000           9.000000           7.000000     1.391122e+06       1.206342e+06       7.047458e+04                        0.069900               64.000000       9.000000       24.000000          6.000000         0.000000\n",
      "75%       75.000000      12.000000          11.000000           9.000000     2.466613e+06       2.039276e+06       1.245293e+05                        0.089925              140.000000      11.000000       27.000000          8.000000         0.000000\n",
      "max      103.000000      22.000000          22.000000          19.000000     1.459411e+08       1.329351e+08       6.764768e+06                        0.207900              264.000000      21.000000       50.000000         17.000000         1.000000\n"
     ]
    }
   ],
   "source": [
    "overview = data.describe()\n",
    "print(overview)"
   ]
  },
  {
   "cell_type": "code",
   "execution_count": 30,
   "metadata": {},
   "outputs": [
    {
     "data": {
      "image/png": "[encoded data removed]",
      "text/plain": [
       "<Figure size 1440x216 with 1 Axes>"
      ]
     },
     "metadata": {
      "needs_background": "light"
     },
     "output_type": "display_data"
    }
   ],
   "source": [
    "boxPlot = data.boxplot(figsize=(20, 3))"
   ]
  },
  {
   "cell_type": "code",
   "execution_count": 7,
   "metadata": {},
   "outputs": [
    {
     "data": {
      "text/html": [
       "<style type=\"text/css\">\n",
       "#T_99680_row0_col0, #T_99680_row1_col1, #T_99680_row2_col2, #T_99680_row3_col3, #T_99680_row4_col4, #T_99680_row5_col5, #T_99680_row6_col6, #T_99680_row7_col7, #T_99680_row8_col8, #T_99680_row9_col9, #T_99680_row10_col10, #T_99680_row11_col11, #T_99680_row12_col12 {\n",
       "  background-color: #b40426;\n",
       "  color: #f1f1f1;\n",
       "}\n",
       "#T_99680_row0_col1, #T_99680_row0_col4, #T_99680_row4_col0, #T_99680_row4_col2, #T_99680_row4_col3, #T_99680_row4_col7, #T_99680_row4_col9, #T_99680_row4_col11, #T_99680_row6_col3, #T_99680_row6_col9, #T_99680_row6_col10, #T_99680_row6_col12, #T_99680_row8_col10, #T_99680_row8_col12, #T_99680_row12_col5, #T_99680_row12_col6, #T_99680_row12_col7, #T_99680_row12_col8 {\n",
       "  background-color: #3b4cc0;\n",
       "  color: #f1f1f1;\n",
       "}\n",
       "#T_99680_row0_col2, #T_99680_row0_col7, #T_99680_row4_col10, #T_99680_row5_col2, #T_99680_row5_col7, #T_99680_row5_col10, #T_99680_row5_col11, #T_99680_row6_col2, #T_99680_row6_col7, #T_99680_row8_col2 {\n",
       "  background-color: #3d50c3;\n",
       "  color: #f1f1f1;\n",
       "}\n",
       "#T_99680_row0_col3, #T_99680_row0_col9, #T_99680_row0_col11, #T_99680_row5_col12, #T_99680_row6_col1, #T_99680_row8_col9, #T_99680_row10_col7, #T_99680_row12_col10, #T_99680_row12_col11 {\n",
       "  background-color: #4055c8;\n",
       "  color: #f1f1f1;\n",
       "}\n",
       "#T_99680_row0_col5, #T_99680_row1_col4, #T_99680_row9_col10 {\n",
       "  background-color: #4c66d6;\n",
       "  color: #f1f1f1;\n",
       "}\n",
       "#T_99680_row0_col6, #T_99680_row9_col5 {\n",
       "  background-color: #536edd;\n",
       "  color: #f1f1f1;\n",
       "}\n",
       "#T_99680_row0_col8, #T_99680_row2_col6, #T_99680_row2_col8, #T_99680_row5_col8, #T_99680_row9_col8 {\n",
       "  background-color: #5d7ce6;\n",
       "  color: #f1f1f1;\n",
       "}\n",
       "#T_99680_row0_col10, #T_99680_row7_col9, #T_99680_row7_col10, #T_99680_row8_col3, #T_99680_row9_col7, #T_99680_row12_col3 {\n",
       "  background-color: #3f53c6;\n",
       "  color: #f1f1f1;\n",
       "}\n",
       "#T_99680_row0_col12, #T_99680_row7_col8, #T_99680_row7_col12, #T_99680_row10_col6, #T_99680_row10_col8, #T_99680_row12_col9 {\n",
       "  background-color: #5977e3;\n",
       "  color: #f1f1f1;\n",
       "}\n",
       "#T_99680_row1_col0, #T_99680_row2_col7, #T_99680_row3_col4, #T_99680_row3_col7, #T_99680_row12_col2 {\n",
       "  background-color: #445acc;\n",
       "  color: #f1f1f1;\n",
       "}\n",
       "#T_99680_row1_col2 {\n",
       "  background-color: #bad0f8;\n",
       "  color: #000000;\n",
       "}\n",
       "#T_99680_row1_col3, #T_99680_row3_col1, #T_99680_row9_col12 {\n",
       "  background-color: #7699f6;\n",
       "  color: #f1f1f1;\n",
       "}\n",
       "#T_99680_row1_col5, #T_99680_row3_col6, #T_99680_row7_col6, #T_99680_row11_col6 {\n",
       "  background-color: #5a78e4;\n",
       "  color: #f1f1f1;\n",
       "}\n",
       "#T_99680_row1_col6, #T_99680_row1_col8, #T_99680_row4_col8, #T_99680_row8_col6, #T_99680_row10_col12, #T_99680_row11_col8 {\n",
       "  background-color: #5f7fe8;\n",
       "  color: #f1f1f1;\n",
       "}\n",
       "#T_99680_row1_col7, #T_99680_row4_col1, #T_99680_row7_col3, #T_99680_row7_col4, #T_99680_row7_col11, #T_99680_row9_col4, #T_99680_row11_col4, #T_99680_row11_col7 {\n",
       "  background-color: #4358cb;\n",
       "  color: #f1f1f1;\n",
       "}\n",
       "#T_99680_row1_col9 {\n",
       "  background-color: #b1cbfc;\n",
       "  color: #000000;\n",
       "}\n",
       "#T_99680_row1_col10 {\n",
       "  background-color: #7093f3;\n",
       "  color: #f1f1f1;\n",
       "}\n",
       "#T_99680_row1_col11 {\n",
       "  background-color: #6384eb;\n",
       "  color: #f1f1f1;\n",
       "}\n",
       "#T_99680_row1_col12 {\n",
       "  background-color: #7597f6;\n",
       "  color: #f1f1f1;\n",
       "}\n",
       "#T_99680_row2_col0, #T_99680_row10_col4 {\n",
       "  background-color: #485fd1;\n",
       "  color: #f1f1f1;\n",
       "}\n",
       "#T_99680_row2_col1 {\n",
       "  background-color: #bbd1f8;\n",
       "  color: #000000;\n",
       "}\n",
       "#T_99680_row2_col3, #T_99680_row3_col2 {\n",
       "  background-color: #b6cefa;\n",
       "  color: #000000;\n",
       "}\n",
       "#T_99680_row2_col4, #T_99680_row12_col0 {\n",
       "  background-color: #455cce;\n",
       "  color: #f1f1f1;\n",
       "}\n",
       "#T_99680_row2_col5, #T_99680_row12_col1 {\n",
       "  background-color: #5673e0;\n",
       "  color: #f1f1f1;\n",
       "}\n",
       "#T_99680_row2_col9 {\n",
       "  background-color: #688aef;\n",
       "  color: #f1f1f1;\n",
       "}\n",
       "#T_99680_row2_col10 {\n",
       "  background-color: #a7c5fe;\n",
       "  color: #000000;\n",
       "}\n",
       "#T_99680_row2_col11 {\n",
       "  background-color: #e5d8d1;\n",
       "  color: #000000;\n",
       "}\n",
       "#T_99680_row2_col12 {\n",
       "  background-color: #6485ec;\n",
       "  color: #f1f1f1;\n",
       "}\n",
       "#T_99680_row3_col0, #T_99680_row9_col0, #T_99680_row10_col0, #T_99680_row11_col0 {\n",
       "  background-color: #4a63d3;\n",
       "  color: #f1f1f1;\n",
       "}\n",
       "#T_99680_row3_col5, #T_99680_row7_col5, #T_99680_row11_col5 {\n",
       "  background-color: #5470de;\n",
       "  color: #f1f1f1;\n",
       "}\n",
       "#T_99680_row3_col8, #T_99680_row3_col12, #T_99680_row6_col8, #T_99680_row11_col12 {\n",
       "  background-color: #5e7de7;\n",
       "  color: #f1f1f1;\n",
       "}\n",
       "#T_99680_row3_col9 {\n",
       "  background-color: #aac7fd;\n",
       "  color: #000000;\n",
       "}\n",
       "#T_99680_row3_col10, #T_99680_row10_col3 {\n",
       "  background-color: #b5cdfa;\n",
       "  color: #000000;\n",
       "}\n",
       "#T_99680_row3_col11 {\n",
       "  background-color: #516ddb;\n",
       "  color: #f1f1f1;\n",
       "}\n",
       "#T_99680_row4_col5 {\n",
       "  background-color: #eb7d62;\n",
       "  color: #f1f1f1;\n",
       "}\n",
       "#T_99680_row4_col6 {\n",
       "  background-color: #f08b6e;\n",
       "  color: #f1f1f1;\n",
       "}\n",
       "#T_99680_row4_col12, #T_99680_row11_col1 {\n",
       "  background-color: #6282ea;\n",
       "  color: #f1f1f1;\n",
       "}\n",
       "#T_99680_row5_col0, #T_99680_row6_col0 {\n",
       "  background-color: #3e51c5;\n",
       "  color: #f1f1f1;\n",
       "}\n",
       "#T_99680_row5_col1, #T_99680_row7_col1, #T_99680_row7_col2, #T_99680_row8_col1, #T_99680_row8_col11 {\n",
       "  background-color: #4257c9;\n",
       "  color: #f1f1f1;\n",
       "}\n",
       "#T_99680_row5_col3, #T_99680_row5_col9, #T_99680_row6_col11, #T_99680_row8_col7 {\n",
       "  background-color: #3c4ec2;\n",
       "  color: #f1f1f1;\n",
       "}\n",
       "#T_99680_row5_col4 {\n",
       "  background-color: #ec8165;\n",
       "  color: #f1f1f1;\n",
       "}\n",
       "#T_99680_row5_col6 {\n",
       "  background-color: #c43032;\n",
       "  color: #f1f1f1;\n",
       "}\n",
       "#T_99680_row6_col4 {\n",
       "  background-color: #f29274;\n",
       "  color: #f1f1f1;\n",
       "}\n",
       "#T_99680_row6_col5 {\n",
       "  background-color: #c53334;\n",
       "  color: #f1f1f1;\n",
       "}\n",
       "#T_99680_row7_col0 {\n",
       "  background-color: #465ecf;\n",
       "  color: #f1f1f1;\n",
       "}\n",
       "#T_99680_row8_col0 {\n",
       "  background-color: #4961d2;\n",
       "  color: #f1f1f1;\n",
       "}\n",
       "#T_99680_row8_col4 {\n",
       "  background-color: #4b64d5;\n",
       "  color: #f1f1f1;\n",
       "}\n",
       "#T_99680_row8_col5, #T_99680_row9_col6 {\n",
       "  background-color: #5875e1;\n",
       "  color: #f1f1f1;\n",
       "}\n",
       "#T_99680_row9_col1 {\n",
       "  background-color: #afcafc;\n",
       "  color: #000000;\n",
       "}\n",
       "#T_99680_row9_col2 {\n",
       "  background-color: #6687ed;\n",
       "  color: #f1f1f1;\n",
       "}\n",
       "#T_99680_row9_col3 {\n",
       "  background-color: #a9c6fd;\n",
       "  color: #000000;\n",
       "}\n",
       "#T_99680_row9_col11, #T_99680_row11_col9 {\n",
       "  background-color: #90b2fe;\n",
       "  color: #000000;\n",
       "}\n",
       "#T_99680_row10_col1 {\n",
       "  background-color: #7295f4;\n",
       "  color: #f1f1f1;\n",
       "}\n",
       "#T_99680_row10_col2 {\n",
       "  background-color: #a6c4fe;\n",
       "  color: #000000;\n",
       "}\n",
       "#T_99680_row10_col5 {\n",
       "  background-color: #5572df;\n",
       "  color: #f1f1f1;\n",
       "}\n",
       "#T_99680_row10_col9 {\n",
       "  background-color: #4f69d9;\n",
       "  color: #f1f1f1;\n",
       "}\n",
       "#T_99680_row10_col11 {\n",
       "  background-color: #a3c2fe;\n",
       "  color: #000000;\n",
       "}\n",
       "#T_99680_row11_col2 {\n",
       "  background-color: #e4d9d2;\n",
       "  color: #000000;\n",
       "}\n",
       "#T_99680_row11_col3 {\n",
       "  background-color: #506bda;\n",
       "  color: #f1f1f1;\n",
       "}\n",
       "#T_99680_row11_col10 {\n",
       "  background-color: #a2c1ff;\n",
       "  color: #000000;\n",
       "}\n",
       "#T_99680_row12_col4 {\n",
       "  background-color: #4e68d8;\n",
       "  color: #f1f1f1;\n",
       "}\n",
       "</style>\n",
       "<table id=\"T_99680_\">\n",
       "  <thead>\n",
       "    <tr>\n",
       "      <th class=\"blank level0\" >&nbsp;</th>\n",
       "      <th class=\"col_heading level0 col0\" >age_nr</th>\n",
       "      <th class=\"col_heading level0 col1\" >trades_6mo_nr</th>\n",
       "      <th class=\"col_heading level0 col2\" >web_logins_3mo_nr</th>\n",
       "      <th class=\"col_heading level0 col3\" >app_logins_3mo_nr</th>\n",
       "      <th class=\"col_heading level0 col4\" >total_assets_am</th>\n",
       "      <th class=\"col_heading level0 col5\" >product_assets_am</th>\n",
       "      <th class=\"col_heading level0 col6\" >net_new_assets_am</th>\n",
       "      <th class=\"col_heading level0 col7\" >total_portfolio_return_1yr_pct</th>\n",
       "      <th class=\"col_heading level0 col8\" >product_tenure_mths_nr</th>\n",
       "      <th class=\"col_heading level0 col9\" >calls_12mo_nr</th>\n",
       "      <th class=\"col_heading level0 col10\" >emails_12mo_nr</th>\n",
       "      <th class=\"col_heading level0 col11\" >meetings_12mo_nr</th>\n",
       "      <th class=\"col_heading level0 col12\" >unenrollment_in</th>\n",
       "    </tr>\n",
       "  </thead>\n",
       "  <tbody>\n",
       "    <tr>\n",
       "      <th id=\"T_99680_level0_row0\" class=\"row_heading level0 row0\" >age_nr</th>\n",
       "      <td id=\"T_99680_row0_col0\" class=\"data row0 col0\" >1.00</td>\n",
       "      <td id=\"T_99680_row0_col1\" class=\"data row0 col1\" >-0.01</td>\n",
       "      <td id=\"T_99680_row0_col2\" class=\"data row0 col2\" >0.00</td>\n",
       "      <td id=\"T_99680_row0_col3\" class=\"data row0 col3\" >0.01</td>\n",
       "      <td id=\"T_99680_row0_col4\" class=\"data row0 col4\" >-0.04</td>\n",
       "      <td id=\"T_99680_row0_col5\" class=\"data row0 col5\" >-0.03</td>\n",
       "      <td id=\"T_99680_row0_col6\" class=\"data row0 col6\" >-0.03</td>\n",
       "      <td id=\"T_99680_row0_col7\" class=\"data row0 col7\" >-0.00</td>\n",
       "      <td id=\"T_99680_row0_col8\" class=\"data row0 col8\" >0.01</td>\n",
       "      <td id=\"T_99680_row0_col9\" class=\"data row0 col9\" >0.01</td>\n",
       "      <td id=\"T_99680_row0_col10\" class=\"data row0 col10\" >0.01</td>\n",
       "      <td id=\"T_99680_row0_col11\" class=\"data row0 col11\" >0.01</td>\n",
       "      <td id=\"T_99680_row0_col12\" class=\"data row0 col12\" >-0.01</td>\n",
       "    </tr>\n",
       "    <tr>\n",
       "      <th id=\"T_99680_level0_row1\" class=\"row_heading level0 row1\" >trades_6mo_nr</th>\n",
       "      <td id=\"T_99680_row1_col0\" class=\"data row1 col0\" >-0.01</td>\n",
       "      <td id=\"T_99680_row1_col1\" class=\"data row1 col1\" >1.00</td>\n",
       "      <td id=\"T_99680_row1_col2\" class=\"data row1 col2\" >0.38</td>\n",
       "      <td id=\"T_99680_row1_col3\" class=\"data row1 col3\" >0.18</td>\n",
       "      <td id=\"T_99680_row1_col4\" class=\"data row1 col4\" >0.02</td>\n",
       "      <td id=\"T_99680_row1_col5\" class=\"data row1 col5\" >0.02</td>\n",
       "      <td id=\"T_99680_row1_col6\" class=\"data row1 col6\" >0.01</td>\n",
       "      <td id=\"T_99680_row1_col7\" class=\"data row1 col7\" >0.02</td>\n",
       "      <td id=\"T_99680_row1_col8\" class=\"data row1 col8\" >0.01</td>\n",
       "      <td id=\"T_99680_row1_col9\" class=\"data row1 col9\" >0.34</td>\n",
       "      <td id=\"T_99680_row1_col10\" class=\"data row1 col10\" >0.17</td>\n",
       "      <td id=\"T_99680_row1_col11\" class=\"data row1 col11\" >0.12</td>\n",
       "      <td id=\"T_99680_row1_col12\" class=\"data row1 col12\" >0.08</td>\n",
       "    </tr>\n",
       "    <tr>\n",
       "      <th id=\"T_99680_level0_row2\" class=\"row_heading level0 row2\" >web_logins_3mo_nr</th>\n",
       "      <td id=\"T_99680_row2_col0\" class=\"data row2 col0\" >0.00</td>\n",
       "      <td id=\"T_99680_row2_col1\" class=\"data row2 col1\" >0.38</td>\n",
       "      <td id=\"T_99680_row2_col2\" class=\"data row2 col2\" >1.00</td>\n",
       "      <td id=\"T_99680_row2_col3\" class=\"data row2 col3\" >0.37</td>\n",
       "      <td id=\"T_99680_row2_col4\" class=\"data row2 col4\" >-0.00</td>\n",
       "      <td id=\"T_99680_row2_col5\" class=\"data row2 col5\" >0.00</td>\n",
       "      <td id=\"T_99680_row2_col6\" class=\"data row2 col6\" >0.00</td>\n",
       "      <td id=\"T_99680_row2_col7\" class=\"data row2 col7\" >0.02</td>\n",
       "      <td id=\"T_99680_row2_col8\" class=\"data row2 col8\" >0.00</td>\n",
       "      <td id=\"T_99680_row2_col9\" class=\"data row2 col9\" >0.14</td>\n",
       "      <td id=\"T_99680_row2_col10\" class=\"data row2 col10\" >0.32</td>\n",
       "      <td id=\"T_99680_row2_col11\" class=\"data row2 col11\" >0.53</td>\n",
       "      <td id=\"T_99680_row2_col12\" class=\"data row2 col12\" >0.03</td>\n",
       "    </tr>\n",
       "    <tr>\n",
       "      <th id=\"T_99680_level0_row3\" class=\"row_heading level0 row3\" >app_logins_3mo_nr</th>\n",
       "      <td id=\"T_99680_row3_col0\" class=\"data row3 col0\" >0.01</td>\n",
       "      <td id=\"T_99680_row3_col1\" class=\"data row3 col1\" >0.18</td>\n",
       "      <td id=\"T_99680_row3_col2\" class=\"data row3 col2\" >0.37</td>\n",
       "      <td id=\"T_99680_row3_col3\" class=\"data row3 col3\" >1.00</td>\n",
       "      <td id=\"T_99680_row3_col4\" class=\"data row3 col4\" >-0.01</td>\n",
       "      <td id=\"T_99680_row3_col5\" class=\"data row3 col5\" >-0.00</td>\n",
       "      <td id=\"T_99680_row3_col6\" class=\"data row3 col6\" >-0.01</td>\n",
       "      <td id=\"T_99680_row3_col7\" class=\"data row3 col7\" >0.02</td>\n",
       "      <td id=\"T_99680_row3_col8\" class=\"data row3 col8\" >0.01</td>\n",
       "      <td id=\"T_99680_row3_col9\" class=\"data row3 col9\" >0.32</td>\n",
       "      <td id=\"T_99680_row3_col10\" class=\"data row3 col10\" >0.36</td>\n",
       "      <td id=\"T_99680_row3_col11\" class=\"data row3 col11\" >0.06</td>\n",
       "      <td id=\"T_99680_row3_col12\" class=\"data row3 col12\" >0.01</td>\n",
       "    </tr>\n",
       "    <tr>\n",
       "      <th id=\"T_99680_level0_row4\" class=\"row_heading level0 row4\" >total_assets_am</th>\n",
       "      <td id=\"T_99680_row4_col0\" class=\"data row4 col0\" >-0.04</td>\n",
       "      <td id=\"T_99680_row4_col1\" class=\"data row4 col1\" >0.02</td>\n",
       "      <td id=\"T_99680_row4_col2\" class=\"data row4 col2\" >-0.00</td>\n",
       "      <td id=\"T_99680_row4_col3\" class=\"data row4 col3\" >-0.01</td>\n",
       "      <td id=\"T_99680_row4_col4\" class=\"data row4 col4\" >1.00</td>\n",
       "      <td id=\"T_99680_row4_col5\" class=\"data row4 col5\" >0.80</td>\n",
       "      <td id=\"T_99680_row4_col6\" class=\"data row4 col6\" >0.76</td>\n",
       "      <td id=\"T_99680_row4_col7\" class=\"data row4 col7\" >-0.01</td>\n",
       "      <td id=\"T_99680_row4_col8\" class=\"data row4 col8\" >0.02</td>\n",
       "      <td id=\"T_99680_row4_col9\" class=\"data row4 col9\" >-0.01</td>\n",
       "      <td id=\"T_99680_row4_col10\" class=\"data row4 col10\" >0.00</td>\n",
       "      <td id=\"T_99680_row4_col11\" class=\"data row4 col11\" >-0.01</td>\n",
       "      <td id=\"T_99680_row4_col12\" class=\"data row4 col12\" >0.02</td>\n",
       "    </tr>\n",
       "    <tr>\n",
       "      <th id=\"T_99680_level0_row5\" class=\"row_heading level0 row5\" >product_assets_am</th>\n",
       "      <td id=\"T_99680_row5_col0\" class=\"data row5 col0\" >-0.03</td>\n",
       "      <td id=\"T_99680_row5_col1\" class=\"data row5 col1\" >0.02</td>\n",
       "      <td id=\"T_99680_row5_col2\" class=\"data row5 col2\" >0.00</td>\n",
       "      <td id=\"T_99680_row5_col3\" class=\"data row5 col3\" >-0.00</td>\n",
       "      <td id=\"T_99680_row5_col4\" class=\"data row5 col4\" >0.80</td>\n",
       "      <td id=\"T_99680_row5_col5\" class=\"data row5 col5\" >1.00</td>\n",
       "      <td id=\"T_99680_row5_col6\" class=\"data row5 col6\" >0.95</td>\n",
       "      <td id=\"T_99680_row5_col7\" class=\"data row5 col7\" >-0.00</td>\n",
       "      <td id=\"T_99680_row5_col8\" class=\"data row5 col8\" >0.01</td>\n",
       "      <td id=\"T_99680_row5_col9\" class=\"data row5 col9\" >-0.01</td>\n",
       "      <td id=\"T_99680_row5_col10\" class=\"data row5 col10\" >0.00</td>\n",
       "      <td id=\"T_99680_row5_col11\" class=\"data row5 col11\" >-0.01</td>\n",
       "      <td id=\"T_99680_row5_col12\" class=\"data row5 col12\" >-0.10</td>\n",
       "    </tr>\n",
       "    <tr>\n",
       "      <th id=\"T_99680_level0_row6\" class=\"row_heading level0 row6\" >net_new_assets_am</th>\n",
       "      <td id=\"T_99680_row6_col0\" class=\"data row6 col0\" >-0.03</td>\n",
       "      <td id=\"T_99680_row6_col1\" class=\"data row6 col1\" >0.01</td>\n",
       "      <td id=\"T_99680_row6_col2\" class=\"data row6 col2\" >0.00</td>\n",
       "      <td id=\"T_99680_row6_col3\" class=\"data row6 col3\" >-0.01</td>\n",
       "      <td id=\"T_99680_row6_col4\" class=\"data row6 col4\" >0.76</td>\n",
       "      <td id=\"T_99680_row6_col5\" class=\"data row6 col5\" >0.95</td>\n",
       "      <td id=\"T_99680_row6_col6\" class=\"data row6 col6\" >1.00</td>\n",
       "      <td id=\"T_99680_row6_col7\" class=\"data row6 col7\" >-0.00</td>\n",
       "      <td id=\"T_99680_row6_col8\" class=\"data row6 col8\" >0.01</td>\n",
       "      <td id=\"T_99680_row6_col9\" class=\"data row6 col9\" >-0.01</td>\n",
       "      <td id=\"T_99680_row6_col10\" class=\"data row6 col10\" >-0.01</td>\n",
       "      <td id=\"T_99680_row6_col11\" class=\"data row6 col11\" >-0.01</td>\n",
       "      <td id=\"T_99680_row6_col12\" class=\"data row6 col12\" >-0.12</td>\n",
       "    </tr>\n",
       "    <tr>\n",
       "      <th id=\"T_99680_level0_row7\" class=\"row_heading level0 row7\" >total_portfolio_return_1yr_pct</th>\n",
       "      <td id=\"T_99680_row7_col0\" class=\"data row7 col0\" >-0.00</td>\n",
       "      <td id=\"T_99680_row7_col1\" class=\"data row7 col1\" >0.02</td>\n",
       "      <td id=\"T_99680_row7_col2\" class=\"data row7 col2\" >0.02</td>\n",
       "      <td id=\"T_99680_row7_col3\" class=\"data row7 col3\" >0.02</td>\n",
       "      <td id=\"T_99680_row7_col4\" class=\"data row7 col4\" >-0.01</td>\n",
       "      <td id=\"T_99680_row7_col5\" class=\"data row7 col5\" >-0.00</td>\n",
       "      <td id=\"T_99680_row7_col6\" class=\"data row7 col6\" >-0.00</td>\n",
       "      <td id=\"T_99680_row7_col7\" class=\"data row7 col7\" >1.00</td>\n",
       "      <td id=\"T_99680_row7_col8\" class=\"data row7 col8\" >-0.01</td>\n",
       "      <td id=\"T_99680_row7_col9\" class=\"data row7 col9\" >0.01</td>\n",
       "      <td id=\"T_99680_row7_col10\" class=\"data row7 col10\" >0.01</td>\n",
       "      <td id=\"T_99680_row7_col11\" class=\"data row7 col11\" >0.02</td>\n",
       "      <td id=\"T_99680_row7_col12\" class=\"data row7 col12\" >-0.01</td>\n",
       "    </tr>\n",
       "    <tr>\n",
       "      <th id=\"T_99680_level0_row8\" class=\"row_heading level0 row8\" >product_tenure_mths_nr</th>\n",
       "      <td id=\"T_99680_row8_col0\" class=\"data row8 col0\" >0.01</td>\n",
       "      <td id=\"T_99680_row8_col1\" class=\"data row8 col1\" >0.01</td>\n",
       "      <td id=\"T_99680_row8_col2\" class=\"data row8 col2\" >0.00</td>\n",
       "      <td id=\"T_99680_row8_col3\" class=\"data row8 col3\" >0.01</td>\n",
       "      <td id=\"T_99680_row8_col4\" class=\"data row8 col4\" >0.02</td>\n",
       "      <td id=\"T_99680_row8_col5\" class=\"data row8 col5\" >0.01</td>\n",
       "      <td id=\"T_99680_row8_col6\" class=\"data row8 col6\" >0.01</td>\n",
       "      <td id=\"T_99680_row8_col7\" class=\"data row8 col7\" >-0.01</td>\n",
       "      <td id=\"T_99680_row8_col8\" class=\"data row8 col8\" >1.00</td>\n",
       "      <td id=\"T_99680_row8_col9\" class=\"data row8 col9\" >0.01</td>\n",
       "      <td id=\"T_99680_row8_col10\" class=\"data row8 col10\" >-0.01</td>\n",
       "      <td id=\"T_99680_row8_col11\" class=\"data row8 col11\" >0.01</td>\n",
       "      <td id=\"T_99680_row8_col12\" class=\"data row8 col12\" >-0.12</td>\n",
       "    </tr>\n",
       "    <tr>\n",
       "      <th id=\"T_99680_level0_row9\" class=\"row_heading level0 row9\" >calls_12mo_nr</th>\n",
       "      <td id=\"T_99680_row9_col0\" class=\"data row9 col0\" >0.01</td>\n",
       "      <td id=\"T_99680_row9_col1\" class=\"data row9 col1\" >0.34</td>\n",
       "      <td id=\"T_99680_row9_col2\" class=\"data row9 col2\" >0.14</td>\n",
       "      <td id=\"T_99680_row9_col3\" class=\"data row9 col3\" >0.32</td>\n",
       "      <td id=\"T_99680_row9_col4\" class=\"data row9 col4\" >-0.01</td>\n",
       "      <td id=\"T_99680_row9_col5\" class=\"data row9 col5\" >-0.01</td>\n",
       "      <td id=\"T_99680_row9_col6\" class=\"data row9 col6\" >-0.01</td>\n",
       "      <td id=\"T_99680_row9_col7\" class=\"data row9 col7\" >0.01</td>\n",
       "      <td id=\"T_99680_row9_col8\" class=\"data row9 col8\" >0.01</td>\n",
       "      <td id=\"T_99680_row9_col9\" class=\"data row9 col9\" >1.00</td>\n",
       "      <td id=\"T_99680_row9_col10\" class=\"data row9 col10\" >0.05</td>\n",
       "      <td id=\"T_99680_row9_col11\" class=\"data row9 col11\" >0.25</td>\n",
       "      <td id=\"T_99680_row9_col12\" class=\"data row9 col12\" >0.09</td>\n",
       "    </tr>\n",
       "    <tr>\n",
       "      <th id=\"T_99680_level0_row10\" class=\"row_heading level0 row10\" >emails_12mo_nr</th>\n",
       "      <td id=\"T_99680_row10_col0\" class=\"data row10 col0\" >0.01</td>\n",
       "      <td id=\"T_99680_row10_col1\" class=\"data row10 col1\" >0.17</td>\n",
       "      <td id=\"T_99680_row10_col2\" class=\"data row10 col2\" >0.32</td>\n",
       "      <td id=\"T_99680_row10_col3\" class=\"data row10 col3\" >0.36</td>\n",
       "      <td id=\"T_99680_row10_col4\" class=\"data row10 col4\" >0.00</td>\n",
       "      <td id=\"T_99680_row10_col5\" class=\"data row10 col5\" >0.00</td>\n",
       "      <td id=\"T_99680_row10_col6\" class=\"data row10 col6\" >-0.01</td>\n",
       "      <td id=\"T_99680_row10_col7\" class=\"data row10 col7\" >0.01</td>\n",
       "      <td id=\"T_99680_row10_col8\" class=\"data row10 col8\" >-0.01</td>\n",
       "      <td id=\"T_99680_row10_col9\" class=\"data row10 col9\" >0.05</td>\n",
       "      <td id=\"T_99680_row10_col10\" class=\"data row10 col10\" >1.00</td>\n",
       "      <td id=\"T_99680_row10_col11\" class=\"data row10 col11\" >0.30</td>\n",
       "      <td id=\"T_99680_row10_col12\" class=\"data row10 col12\" >0.02</td>\n",
       "    </tr>\n",
       "    <tr>\n",
       "      <th id=\"T_99680_level0_row11\" class=\"row_heading level0 row11\" >meetings_12mo_nr</th>\n",
       "      <td id=\"T_99680_row11_col0\" class=\"data row11 col0\" >0.01</td>\n",
       "      <td id=\"T_99680_row11_col1\" class=\"data row11 col1\" >0.12</td>\n",
       "      <td id=\"T_99680_row11_col2\" class=\"data row11 col2\" >0.53</td>\n",
       "      <td id=\"T_99680_row11_col3\" class=\"data row11 col3\" >0.06</td>\n",
       "      <td id=\"T_99680_row11_col4\" class=\"data row11 col4\" >-0.01</td>\n",
       "      <td id=\"T_99680_row11_col5\" class=\"data row11 col5\" >-0.01</td>\n",
       "      <td id=\"T_99680_row11_col6\" class=\"data row11 col6\" >-0.01</td>\n",
       "      <td id=\"T_99680_row11_col7\" class=\"data row11 col7\" >0.02</td>\n",
       "      <td id=\"T_99680_row11_col8\" class=\"data row11 col8\" >0.01</td>\n",
       "      <td id=\"T_99680_row11_col9\" class=\"data row11 col9\" >0.25</td>\n",
       "      <td id=\"T_99680_row11_col10\" class=\"data row11 col10\" >0.30</td>\n",
       "      <td id=\"T_99680_row11_col11\" class=\"data row11 col11\" >1.00</td>\n",
       "      <td id=\"T_99680_row11_col12\" class=\"data row11 col12\" >0.01</td>\n",
       "    </tr>\n",
       "    <tr>\n",
       "      <th id=\"T_99680_level0_row12\" class=\"row_heading level0 row12\" >unenrollment_in</th>\n",
       "      <td id=\"T_99680_row12_col0\" class=\"data row12 col0\" >-0.01</td>\n",
       "      <td id=\"T_99680_row12_col1\" class=\"data row12 col1\" >0.08</td>\n",
       "      <td id=\"T_99680_row12_col2\" class=\"data row12 col2\" >0.03</td>\n",
       "      <td id=\"T_99680_row12_col3\" class=\"data row12 col3\" >0.01</td>\n",
       "      <td id=\"T_99680_row12_col4\" class=\"data row12 col4\" >0.02</td>\n",
       "      <td id=\"T_99680_row12_col5\" class=\"data row12 col5\" >-0.10</td>\n",
       "      <td id=\"T_99680_row12_col6\" class=\"data row12 col6\" >-0.12</td>\n",
       "      <td id=\"T_99680_row12_col7\" class=\"data row12 col7\" >-0.01</td>\n",
       "      <td id=\"T_99680_row12_col8\" class=\"data row12 col8\" >-0.12</td>\n",
       "      <td id=\"T_99680_row12_col9\" class=\"data row12 col9\" >0.09</td>\n",
       "      <td id=\"T_99680_row12_col10\" class=\"data row12 col10\" >0.02</td>\n",
       "      <td id=\"T_99680_row12_col11\" class=\"data row12 col11\" >0.01</td>\n",
       "      <td id=\"T_99680_row12_col12\" class=\"data row12 col12\" >1.00</td>\n",
       "    </tr>\n",
       "  </tbody>\n",
       "</table>\n"
      ],
      "text/plain": [
       "<pandas.io.formats.style.Styler at 0x200bf3f3f10>"
      ]
     },
     "execution_count": 7,
     "metadata": {},
     "output_type": "execute_result"
    }
   ],
   "source": [
    "corr = data.corr()\n",
    "corr.style.background_gradient(cmap='coolwarm').format(precision=2)"
   ]
  },
  {
   "cell_type": "markdown",
   "metadata": {},
   "source": [
    "Observations\n",
    "\n",
    "1. invest_exp_nm is the only categorical variable. Will make this into a dummy\n",
    "2. Some big outliers in the *total assets* and *product asset* categories. (I assumed its safe to exclude these, model will behave a lot better. IRL I would make a note to do a \"large account\" analysis in the future)\n",
    "3. Most of the features are normally distributed, the only exception is product tenure. The 3 asset features have heavy skew.\n",
    "4. All 3 asset features are highly correlated, so we need to address that in the model. (only because we'd like to understand the factors behind the predicions)\n",
    "5. There is another correlation cluster between the logins and communication methods, but it is moderate. I'd like to explore more if time permits."
   ]
  },
  {
   "cell_type": "markdown",
   "metadata": {},
   "source": [
    "Cleanup"
   ]
  },
  {
   "cell_type": "markdown",
   "metadata": {},
   "source": [
    "1. Keep only assets within 2 sds\n",
    "2. Delete unused columns \n",
    "    1. customer_id: used as index\n",
    "    2. total_assets_am: highly correlated with product_assets_am (removed since model is about this specific product, \"total assets\" includes other products)\n",
    "    3. net_new_assets_am: highly correlated with product_assets_am (removed since model is about this specific product, \"net new assets\" includes other customer accounts)\n",
    "3. Scale remining \"product assets\" column by 1000 so the numbers are not as extreme.\n",
    "4. Encode invest_exp_nm into dummies"
   ]
  },
  {
   "cell_type": "code",
   "execution_count": 8,
   "metadata": {},
   "outputs": [],
   "source": [
    "df_clean = data.drop(['total_assets_am','net_new_assets_am'], axis=1)\n",
    "df_clean['product_assets_am'] = (df_clean['product_assets_am'] / 10000)"
   ]
  },
  {
   "cell_type": "code",
   "execution_count": 9,
   "metadata": {},
   "outputs": [],
   "source": [
    "p_asset_threshold = np.percentile(df_clean.product_assets_am,  95.45)"
   ]
  },
  {
   "cell_type": "code",
   "execution_count": 10,
   "metadata": {},
   "outputs": [],
   "source": [
    "df_clean = df_clean[ df_clean['product_assets_am'] < p_asset_threshold ]"
   ]
  },
  {
   "cell_type": "code",
   "execution_count": 11,
   "metadata": {},
   "outputs": [
    {
     "name": "stdout",
     "output_type": "stream",
     "text": [
      "             exp_excellent  exp_good  exp_limited  exp_none\n",
      "customer_id                                                \n",
      "1                        0         0            1         0\n",
      "2                        0         1            0         0\n",
      "3                        0         1            0         0\n",
      "4                        0         0            1         0\n",
      "5                        1         0            0         0\n"
     ]
    }
   ],
   "source": [
    "\n",
    "exp_dummies = pd.get_dummies(df_clean['invest_exp_nm'], prefix='exp', dummy_na=False, drop_first=False)\n",
    "print(exp_dummies.head())"
   ]
  },
  {
   "cell_type": "code",
   "execution_count": 12,
   "metadata": {},
   "outputs": [
    {
     "name": "stdout",
     "output_type": "stream",
     "text": [
      "             age_nr  trades_6mo_nr  web_logins_3mo_nr  app_logins_3mo_nr  product_assets_am  total_portfolio_return_1yr_pct  product_tenure_mths_nr  calls_12mo_nr  emails_12mo_nr  meetings_12mo_nr  unenrollment_in\n",
      "customer_id                                                                                                                                                                                                          \n",
      "1                62             19                  9                  5         140.597204                          0.0679                      27              5              23                 7                0\n",
      "2                69              8                  8                  5          52.806373                          0.0539                     140              7              23                 6                0\n",
      "3                66              8                  8                  6         164.324659                          0.0662                      22              9              17                 7                0\n",
      "4                77             16                  6                  4          99.419153                          0.0631                      35             11              26                 6                0\n",
      "5                64              7                  5                  4          56.347447                          0.0690                      85              5              19                 3                0\n"
     ]
    }
   ],
   "source": [
    "#df_clean = pd.concat([df_clean, exp_dummies], axis=1) #removed dummies after seeing how they were affecting the model\n",
    "df_clean.drop(['invest_exp_nm'], axis=1, inplace=True) #removed age after seeing no predictive power\n",
    "print(df_clean.head())"
   ]
  },
  {
   "cell_type": "code",
   "execution_count": 13,
   "metadata": {},
   "outputs": [],
   "source": [
    "stat = df_clean.describe()\n",
    "#stat.to_csv(\"schwab_basicstats.csv\")"
   ]
  },
  {
   "cell_type": "code",
   "execution_count": 31,
   "metadata": {},
   "outputs": [
    {
     "data": {
      "text/plain": [
       "array([[<AxesSubplot:title={'center':'trades_6mo_nr'}>,\n",
       "        <AxesSubplot:title={'center':'web_logins_3mo_nr'}>,\n",
       "        <AxesSubplot:title={'center':'app_logins_3mo_nr'}>],\n",
       "       [<AxesSubplot:title={'center':'product_assets_am'}>,\n",
       "        <AxesSubplot:title={'center':'total_portfolio_return_1yr_pct'}>,\n",
       "        <AxesSubplot:title={'center':'product_tenure_mths_nr'}>],\n",
       "       [<AxesSubplot:title={'center':'calls_12mo_nr'}>,\n",
       "        <AxesSubplot:title={'center':'emails_12mo_nr'}>,\n",
       "        <AxesSubplot:title={'center':'meetings_12mo_nr'}>]], dtype=object)"
      ]
     },
     "execution_count": 31,
     "metadata": {},
     "output_type": "execute_result"
    },
    {
     "data": {
      "image/png": "[encoded data removed]",
      "text/plain": [
       "<Figure size 1440x720 with 9 Axes>"
      ]
     },
     "metadata": {
      "needs_background": "light"
     },
     "output_type": "display_data"
    }
   ],
   "source": [
    "df_clean.iloc[:,:-1].hist(figsize=(20, 10),bins=20, density=True)"
   ]
  },
  {
   "cell_type": "code",
   "execution_count": 15,
   "metadata": {},
   "outputs": [
    {
     "data": {
      "text/html": [
       "<style type=\"text/css\">\n",
       "#T_6656a_row0_col0, #T_6656a_row1_col1, #T_6656a_row2_col2, #T_6656a_row3_col3, #T_6656a_row4_col4, #T_6656a_row5_col5, #T_6656a_row6_col6, #T_6656a_row7_col7, #T_6656a_row8_col8, #T_6656a_row9_col9, #T_6656a_row10_col10 {\n",
       "  background-color: #b40426;\n",
       "  color: #f1f1f1;\n",
       "}\n",
       "#T_6656a_row0_col1, #T_6656a_row0_col2, #T_6656a_row0_col9, #T_6656a_row1_col0, #T_6656a_row4_col3, #T_6656a_row4_col5, #T_6656a_row4_col7, #T_6656a_row4_col10, #T_6656a_row6_col3, #T_6656a_row6_col8, #T_6656a_row10_col0, #T_6656a_row10_col3, #T_6656a_row10_col4, #T_6656a_row10_col5, #T_6656a_row10_col6, #T_6656a_row10_col9 {\n",
       "  background-color: #3b4cc0;\n",
       "  color: #f1f1f1;\n",
       "}\n",
       "#T_6656a_row0_col3, #T_6656a_row4_col9, #T_6656a_row6_col2, #T_6656a_row6_col5, #T_6656a_row6_col9 {\n",
       "  background-color: #3c4ec2;\n",
       "  color: #f1f1f1;\n",
       "}\n",
       "#T_6656a_row0_col4, #T_6656a_row1_col4 {\n",
       "  background-color: #6788ee;\n",
       "  color: #f1f1f1;\n",
       "}\n",
       "#T_6656a_row0_col5, #T_6656a_row0_col7, #T_6656a_row4_col8, #T_6656a_row5_col0, #T_6656a_row5_col9 {\n",
       "  background-color: #3d50c3;\n",
       "  color: #f1f1f1;\n",
       "}\n",
       "#T_6656a_row0_col6, #T_6656a_row2_col6, #T_6656a_row7_col6 {\n",
       "  background-color: #5e7de7;\n",
       "  color: #f1f1f1;\n",
       "}\n",
       "#T_6656a_row0_col8, #T_6656a_row5_col3, #T_6656a_row6_col0, #T_6656a_row7_col0, #T_6656a_row9_col0 {\n",
       "  background-color: #3f53c6;\n",
       "  color: #f1f1f1;\n",
       "}\n",
       "#T_6656a_row0_col10, #T_6656a_row5_col4, #T_6656a_row5_col10 {\n",
       "  background-color: #6384eb;\n",
       "  color: #f1f1f1;\n",
       "}\n",
       "#T_6656a_row1_col2 {\n",
       "  background-color: #b9d0f9;\n",
       "  color: #000000;\n",
       "}\n",
       "#T_6656a_row1_col3, #T_6656a_row1_col8 {\n",
       "  background-color: #7295f4;\n",
       "  color: #f1f1f1;\n",
       "}\n",
       "#T_6656a_row1_col5, #T_6656a_row2_col5, #T_6656a_row5_col1, #T_6656a_row9_col5, #T_6656a_row10_col2 {\n",
       "  background-color: #4358cb;\n",
       "  color: #f1f1f1;\n",
       "}\n",
       "#T_6656a_row1_col6 {\n",
       "  background-color: #6180e9;\n",
       "  color: #f1f1f1;\n",
       "}\n",
       "#T_6656a_row1_col7 {\n",
       "  background-color: #afcafc;\n",
       "  color: #000000;\n",
       "}\n",
       "#T_6656a_row1_col9, #T_6656a_row3_col6, #T_6656a_row9_col6 {\n",
       "  background-color: #5f7fe8;\n",
       "  color: #f1f1f1;\n",
       "}\n",
       "#T_6656a_row1_col10 {\n",
       "  background-color: #80a3fa;\n",
       "  color: #f1f1f1;\n",
       "}\n",
       "#T_6656a_row2_col0, #T_6656a_row4_col0, #T_6656a_row4_col1, #T_6656a_row5_col2, #T_6656a_row5_col7, #T_6656a_row6_col7 {\n",
       "  background-color: #3e51c5;\n",
       "  color: #f1f1f1;\n",
       "}\n",
       "#T_6656a_row2_col1 {\n",
       "  background-color: #bbd1f8;\n",
       "  color: #000000;\n",
       "}\n",
       "#T_6656a_row2_col3 {\n",
       "  background-color: #b3cdfb;\n",
       "  color: #000000;\n",
       "}\n",
       "#T_6656a_row2_col4 {\n",
       "  background-color: #6e90f2;\n",
       "  color: #f1f1f1;\n",
       "}\n",
       "#T_6656a_row2_col7, #T_6656a_row6_col4, #T_6656a_row7_col4, #T_6656a_row8_col4 {\n",
       "  background-color: #6687ed;\n",
       "  color: #f1f1f1;\n",
       "}\n",
       "#T_6656a_row2_col8, #T_6656a_row3_col7 {\n",
       "  background-color: #a7c5fe;\n",
       "  color: #000000;\n",
       "}\n",
       "#T_6656a_row2_col9 {\n",
       "  background-color: #e2dad5;\n",
       "  color: #000000;\n",
       "}\n",
       "#T_6656a_row2_col10 {\n",
       "  background-color: #6f92f3;\n",
       "  color: #f1f1f1;\n",
       "}\n",
       "#T_6656a_row3_col0, #T_6656a_row6_col1, #T_6656a_row8_col5, #T_6656a_row10_col8 {\n",
       "  background-color: #4257c9;\n",
       "  color: #f1f1f1;\n",
       "}\n",
       "#T_6656a_row3_col1 {\n",
       "  background-color: #779af7;\n",
       "  color: #f1f1f1;\n",
       "}\n",
       "#T_6656a_row3_col2 {\n",
       "  background-color: #b5cdfa;\n",
       "  color: #000000;\n",
       "}\n",
       "#T_6656a_row3_col4, #T_6656a_row9_col4 {\n",
       "  background-color: #6a8bef;\n",
       "  color: #f1f1f1;\n",
       "}\n",
       "#T_6656a_row3_col5, #T_6656a_row6_col10 {\n",
       "  background-color: #455cce;\n",
       "  color: #f1f1f1;\n",
       "}\n",
       "#T_6656a_row3_col8 {\n",
       "  background-color: #b6cefa;\n",
       "  color: #000000;\n",
       "}\n",
       "#T_6656a_row3_col9, #T_6656a_row8_col7, #T_6656a_row9_col3 {\n",
       "  background-color: #4c66d6;\n",
       "  color: #f1f1f1;\n",
       "}\n",
       "#T_6656a_row3_col10, #T_6656a_row9_col10 {\n",
       "  background-color: #688aef;\n",
       "  color: #f1f1f1;\n",
       "}\n",
       "#T_6656a_row4_col2, #T_6656a_row5_col8, #T_6656a_row7_col5, #T_6656a_row8_col0 {\n",
       "  background-color: #4055c8;\n",
       "  color: #f1f1f1;\n",
       "}\n",
       "#T_6656a_row4_col6 {\n",
       "  background-color: #5b7ae5;\n",
       "  color: #f1f1f1;\n",
       "}\n",
       "#T_6656a_row5_col6 {\n",
       "  background-color: #5a78e4;\n",
       "  color: #f1f1f1;\n",
       "}\n",
       "#T_6656a_row7_col1 {\n",
       "  background-color: #b1cbfc;\n",
       "  color: #000000;\n",
       "}\n",
       "#T_6656a_row7_col2, #T_6656a_row9_col1 {\n",
       "  background-color: #6485ec;\n",
       "  color: #f1f1f1;\n",
       "}\n",
       "#T_6656a_row7_col3, #T_6656a_row8_col2 {\n",
       "  background-color: #a5c3fe;\n",
       "  color: #000000;\n",
       "}\n",
       "#T_6656a_row7_col8 {\n",
       "  background-color: #4f69d9;\n",
       "  color: #f1f1f1;\n",
       "}\n",
       "#T_6656a_row7_col9 {\n",
       "  background-color: #8caffe;\n",
       "  color: #000000;\n",
       "}\n",
       "#T_6656a_row7_col10 {\n",
       "  background-color: #81a4fb;\n",
       "  color: #f1f1f1;\n",
       "}\n",
       "#T_6656a_row8_col1 {\n",
       "  background-color: #7396f5;\n",
       "  color: #f1f1f1;\n",
       "}\n",
       "#T_6656a_row8_col3 {\n",
       "  background-color: #b2ccfb;\n",
       "  color: #000000;\n",
       "}\n",
       "#T_6656a_row8_col6 {\n",
       "  background-color: #5977e3;\n",
       "  color: #f1f1f1;\n",
       "}\n",
       "#T_6656a_row8_col9 {\n",
       "  background-color: #9ebeff;\n",
       "  color: #000000;\n",
       "}\n",
       "#T_6656a_row8_col10 {\n",
       "  background-color: #6b8df0;\n",
       "  color: #f1f1f1;\n",
       "}\n",
       "#T_6656a_row9_col2 {\n",
       "  background-color: #e3d9d3;\n",
       "  color: #000000;\n",
       "}\n",
       "#T_6656a_row9_col7 {\n",
       "  background-color: #8fb1fe;\n",
       "  color: #000000;\n",
       "}\n",
       "#T_6656a_row9_col8 {\n",
       "  background-color: #a2c1ff;\n",
       "  color: #000000;\n",
       "}\n",
       "#T_6656a_row10_col1, #T_6656a_row10_col7 {\n",
       "  background-color: #5875e1;\n",
       "  color: #f1f1f1;\n",
       "}\n",
       "</style>\n",
       "<table id=\"T_6656a_\">\n",
       "  <thead>\n",
       "    <tr>\n",
       "      <th class=\"blank level0\" >&nbsp;</th>\n",
       "      <th class=\"col_heading level0 col0\" >age_nr</th>\n",
       "      <th class=\"col_heading level0 col1\" >trades_6mo_nr</th>\n",
       "      <th class=\"col_heading level0 col2\" >web_logins_3mo_nr</th>\n",
       "      <th class=\"col_heading level0 col3\" >app_logins_3mo_nr</th>\n",
       "      <th class=\"col_heading level0 col4\" >product_assets_am</th>\n",
       "      <th class=\"col_heading level0 col5\" >total_portfolio_return_1yr_pct</th>\n",
       "      <th class=\"col_heading level0 col6\" >product_tenure_mths_nr</th>\n",
       "      <th class=\"col_heading level0 col7\" >calls_12mo_nr</th>\n",
       "      <th class=\"col_heading level0 col8\" >emails_12mo_nr</th>\n",
       "      <th class=\"col_heading level0 col9\" >meetings_12mo_nr</th>\n",
       "      <th class=\"col_heading level0 col10\" >unenrollment_in</th>\n",
       "    </tr>\n",
       "  </thead>\n",
       "  <tbody>\n",
       "    <tr>\n",
       "      <th id=\"T_6656a_level0_row0\" class=\"row_heading level0 row0\" >age_nr</th>\n",
       "      <td id=\"T_6656a_row0_col0\" class=\"data row0 col0\" >1.00</td>\n",
       "      <td id=\"T_6656a_row0_col1\" class=\"data row0 col1\" >-0.01</td>\n",
       "      <td id=\"T_6656a_row0_col2\" class=\"data row0 col2\" >0.00</td>\n",
       "      <td id=\"T_6656a_row0_col3\" class=\"data row0 col3\" >0.01</td>\n",
       "      <td id=\"T_6656a_row0_col4\" class=\"data row0 col4\" >0.00</td>\n",
       "      <td id=\"T_6656a_row0_col5\" class=\"data row0 col5\" >-0.00</td>\n",
       "      <td id=\"T_6656a_row0_col6\" class=\"data row0 col6\" >0.01</td>\n",
       "      <td id=\"T_6656a_row0_col7\" class=\"data row0 col7\" >0.01</td>\n",
       "      <td id=\"T_6656a_row0_col8\" class=\"data row0 col8\" >0.01</td>\n",
       "      <td id=\"T_6656a_row0_col9\" class=\"data row0 col9\" >0.01</td>\n",
       "      <td id=\"T_6656a_row0_col10\" class=\"data row0 col10\" >-0.01</td>\n",
       "    </tr>\n",
       "    <tr>\n",
       "      <th id=\"T_6656a_level0_row1\" class=\"row_heading level0 row1\" >trades_6mo_nr</th>\n",
       "      <td id=\"T_6656a_row1_col0\" class=\"data row1 col0\" >-0.01</td>\n",
       "      <td id=\"T_6656a_row1_col1\" class=\"data row1 col1\" >1.00</td>\n",
       "      <td id=\"T_6656a_row1_col2\" class=\"data row1 col2\" >0.38</td>\n",
       "      <td id=\"T_6656a_row1_col3\" class=\"data row1 col3\" >0.18</td>\n",
       "      <td id=\"T_6656a_row1_col4\" class=\"data row1 col4\" >0.00</td>\n",
       "      <td id=\"T_6656a_row1_col5\" class=\"data row1 col5\" >0.02</td>\n",
       "      <td id=\"T_6656a_row1_col6\" class=\"data row1 col6\" >0.02</td>\n",
       "      <td id=\"T_6656a_row1_col7\" class=\"data row1 col7\" >0.35</td>\n",
       "      <td id=\"T_6656a_row1_col8\" class=\"data row1 col8\" >0.17</td>\n",
       "      <td id=\"T_6656a_row1_col9\" class=\"data row1 col9\" >0.12</td>\n",
       "      <td id=\"T_6656a_row1_col10\" class=\"data row1 col10\" >0.08</td>\n",
       "    </tr>\n",
       "    <tr>\n",
       "      <th id=\"T_6656a_level0_row2\" class=\"row_heading level0 row2\" >web_logins_3mo_nr</th>\n",
       "      <td id=\"T_6656a_row2_col0\" class=\"data row2 col0\" >0.00</td>\n",
       "      <td id=\"T_6656a_row2_col1\" class=\"data row2 col1\" >0.38</td>\n",
       "      <td id=\"T_6656a_row2_col2\" class=\"data row2 col2\" >1.00</td>\n",
       "      <td id=\"T_6656a_row2_col3\" class=\"data row2 col3\" >0.37</td>\n",
       "      <td id=\"T_6656a_row2_col4\" class=\"data row2 col4\" >0.02</td>\n",
       "      <td id=\"T_6656a_row2_col5\" class=\"data row2 col5\" >0.02</td>\n",
       "      <td id=\"T_6656a_row2_col6\" class=\"data row2 col6\" >0.01</td>\n",
       "      <td id=\"T_6656a_row2_col7\" class=\"data row2 col7\" >0.14</td>\n",
       "      <td id=\"T_6656a_row2_col8\" class=\"data row2 col8\" >0.32</td>\n",
       "      <td id=\"T_6656a_row2_col9\" class=\"data row2 col9\" >0.53</td>\n",
       "      <td id=\"T_6656a_row2_col10\" class=\"data row2 col10\" >0.03</td>\n",
       "    </tr>\n",
       "    <tr>\n",
       "      <th id=\"T_6656a_level0_row3\" class=\"row_heading level0 row3\" >app_logins_3mo_nr</th>\n",
       "      <td id=\"T_6656a_row3_col0\" class=\"data row3 col0\" >0.01</td>\n",
       "      <td id=\"T_6656a_row3_col1\" class=\"data row3 col1\" >0.18</td>\n",
       "      <td id=\"T_6656a_row3_col2\" class=\"data row3 col2\" >0.37</td>\n",
       "      <td id=\"T_6656a_row3_col3\" class=\"data row3 col3\" >1.00</td>\n",
       "      <td id=\"T_6656a_row3_col4\" class=\"data row3 col4\" >0.01</td>\n",
       "      <td id=\"T_6656a_row3_col5\" class=\"data row3 col5\" >0.02</td>\n",
       "      <td id=\"T_6656a_row3_col6\" class=\"data row3 col6\" >0.01</td>\n",
       "      <td id=\"T_6656a_row3_col7\" class=\"data row3 col7\" >0.32</td>\n",
       "      <td id=\"T_6656a_row3_col8\" class=\"data row3 col8\" >0.36</td>\n",
       "      <td id=\"T_6656a_row3_col9\" class=\"data row3 col9\" >0.07</td>\n",
       "      <td id=\"T_6656a_row3_col10\" class=\"data row3 col10\" >0.01</td>\n",
       "    </tr>\n",
       "    <tr>\n",
       "      <th id=\"T_6656a_level0_row4\" class=\"row_heading level0 row4\" >product_assets_am</th>\n",
       "      <td id=\"T_6656a_row4_col0\" class=\"data row4 col0\" >0.00</td>\n",
       "      <td id=\"T_6656a_row4_col1\" class=\"data row4 col1\" >0.00</td>\n",
       "      <td id=\"T_6656a_row4_col2\" class=\"data row4 col2\" >0.02</td>\n",
       "      <td id=\"T_6656a_row4_col3\" class=\"data row4 col3\" >0.01</td>\n",
       "      <td id=\"T_6656a_row4_col4\" class=\"data row4 col4\" >1.00</td>\n",
       "      <td id=\"T_6656a_row4_col5\" class=\"data row4 col5\" >-0.01</td>\n",
       "      <td id=\"T_6656a_row4_col6\" class=\"data row4 col6\" >-0.00</td>\n",
       "      <td id=\"T_6656a_row4_col7\" class=\"data row4 col7\" >-0.00</td>\n",
       "      <td id=\"T_6656a_row4_col8\" class=\"data row4 col8\" >0.00</td>\n",
       "      <td id=\"T_6656a_row4_col9\" class=\"data row4 col9\" >0.01</td>\n",
       "      <td id=\"T_6656a_row4_col10\" class=\"data row4 col10\" >-0.16</td>\n",
       "    </tr>\n",
       "    <tr>\n",
       "      <th id=\"T_6656a_level0_row5\" class=\"row_heading level0 row5\" >total_portfolio_return_1yr_pct</th>\n",
       "      <td id=\"T_6656a_row5_col0\" class=\"data row5 col0\" >-0.00</td>\n",
       "      <td id=\"T_6656a_row5_col1\" class=\"data row5 col1\" >0.02</td>\n",
       "      <td id=\"T_6656a_row5_col2\" class=\"data row5 col2\" >0.02</td>\n",
       "      <td id=\"T_6656a_row5_col3\" class=\"data row5 col3\" >0.02</td>\n",
       "      <td id=\"T_6656a_row5_col4\" class=\"data row5 col4\" >-0.01</td>\n",
       "      <td id=\"T_6656a_row5_col5\" class=\"data row5 col5\" >1.00</td>\n",
       "      <td id=\"T_6656a_row5_col6\" class=\"data row5 col6\" >-0.01</td>\n",
       "      <td id=\"T_6656a_row5_col7\" class=\"data row5 col7\" >0.01</td>\n",
       "      <td id=\"T_6656a_row5_col8\" class=\"data row5 col8\" >0.01</td>\n",
       "      <td id=\"T_6656a_row5_col9\" class=\"data row5 col9\" >0.02</td>\n",
       "      <td id=\"T_6656a_row5_col10\" class=\"data row5 col10\" >-0.01</td>\n",
       "    </tr>\n",
       "    <tr>\n",
       "      <th id=\"T_6656a_level0_row6\" class=\"row_heading level0 row6\" >product_tenure_mths_nr</th>\n",
       "      <td id=\"T_6656a_row6_col0\" class=\"data row6 col0\" >0.01</td>\n",
       "      <td id=\"T_6656a_row6_col1\" class=\"data row6 col1\" >0.02</td>\n",
       "      <td id=\"T_6656a_row6_col2\" class=\"data row6 col2\" >0.01</td>\n",
       "      <td id=\"T_6656a_row6_col3\" class=\"data row6 col3\" >0.01</td>\n",
       "      <td id=\"T_6656a_row6_col4\" class=\"data row6 col4\" >-0.00</td>\n",
       "      <td id=\"T_6656a_row6_col5\" class=\"data row6 col5\" >-0.01</td>\n",
       "      <td id=\"T_6656a_row6_col6\" class=\"data row6 col6\" >1.00</td>\n",
       "      <td id=\"T_6656a_row6_col7\" class=\"data row6 col7\" >0.01</td>\n",
       "      <td id=\"T_6656a_row6_col8\" class=\"data row6 col8\" >-0.01</td>\n",
       "      <td id=\"T_6656a_row6_col9\" class=\"data row6 col9\" >0.01</td>\n",
       "      <td id=\"T_6656a_row6_col10\" class=\"data row6 col10\" >-0.12</td>\n",
       "    </tr>\n",
       "    <tr>\n",
       "      <th id=\"T_6656a_level0_row7\" class=\"row_heading level0 row7\" >calls_12mo_nr</th>\n",
       "      <td id=\"T_6656a_row7_col0\" class=\"data row7 col0\" >0.01</td>\n",
       "      <td id=\"T_6656a_row7_col1\" class=\"data row7 col1\" >0.35</td>\n",
       "      <td id=\"T_6656a_row7_col2\" class=\"data row7 col2\" >0.14</td>\n",
       "      <td id=\"T_6656a_row7_col3\" class=\"data row7 col3\" >0.32</td>\n",
       "      <td id=\"T_6656a_row7_col4\" class=\"data row7 col4\" >-0.00</td>\n",
       "      <td id=\"T_6656a_row7_col5\" class=\"data row7 col5\" >0.01</td>\n",
       "      <td id=\"T_6656a_row7_col6\" class=\"data row7 col6\" >0.01</td>\n",
       "      <td id=\"T_6656a_row7_col7\" class=\"data row7 col7\" >1.00</td>\n",
       "      <td id=\"T_6656a_row7_col8\" class=\"data row7 col8\" >0.06</td>\n",
       "      <td id=\"T_6656a_row7_col9\" class=\"data row7 col9\" >0.25</td>\n",
       "      <td id=\"T_6656a_row7_col10\" class=\"data row7 col10\" >0.09</td>\n",
       "    </tr>\n",
       "    <tr>\n",
       "      <th id=\"T_6656a_level0_row8\" class=\"row_heading level0 row8\" >emails_12mo_nr</th>\n",
       "      <td id=\"T_6656a_row8_col0\" class=\"data row8 col0\" >0.01</td>\n",
       "      <td id=\"T_6656a_row8_col1\" class=\"data row8 col1\" >0.17</td>\n",
       "      <td id=\"T_6656a_row8_col2\" class=\"data row8 col2\" >0.32</td>\n",
       "      <td id=\"T_6656a_row8_col3\" class=\"data row8 col3\" >0.36</td>\n",
       "      <td id=\"T_6656a_row8_col4\" class=\"data row8 col4\" >0.00</td>\n",
       "      <td id=\"T_6656a_row8_col5\" class=\"data row8 col5\" >0.01</td>\n",
       "      <td id=\"T_6656a_row8_col6\" class=\"data row8 col6\" >-0.01</td>\n",
       "      <td id=\"T_6656a_row8_col7\" class=\"data row8 col7\" >0.06</td>\n",
       "      <td id=\"T_6656a_row8_col8\" class=\"data row8 col8\" >1.00</td>\n",
       "      <td id=\"T_6656a_row8_col9\" class=\"data row8 col9\" >0.30</td>\n",
       "      <td id=\"T_6656a_row8_col10\" class=\"data row8 col10\" >0.02</td>\n",
       "    </tr>\n",
       "    <tr>\n",
       "      <th id=\"T_6656a_level0_row9\" class=\"row_heading level0 row9\" >meetings_12mo_nr</th>\n",
       "      <td id=\"T_6656a_row9_col0\" class=\"data row9 col0\" >0.01</td>\n",
       "      <td id=\"T_6656a_row9_col1\" class=\"data row9 col1\" >0.12</td>\n",
       "      <td id=\"T_6656a_row9_col2\" class=\"data row9 col2\" >0.53</td>\n",
       "      <td id=\"T_6656a_row9_col3\" class=\"data row9 col3\" >0.07</td>\n",
       "      <td id=\"T_6656a_row9_col4\" class=\"data row9 col4\" >0.01</td>\n",
       "      <td id=\"T_6656a_row9_col5\" class=\"data row9 col5\" >0.02</td>\n",
       "      <td id=\"T_6656a_row9_col6\" class=\"data row9 col6\" >0.01</td>\n",
       "      <td id=\"T_6656a_row9_col7\" class=\"data row9 col7\" >0.25</td>\n",
       "      <td id=\"T_6656a_row9_col8\" class=\"data row9 col8\" >0.30</td>\n",
       "      <td id=\"T_6656a_row9_col9\" class=\"data row9 col9\" >1.00</td>\n",
       "      <td id=\"T_6656a_row9_col10\" class=\"data row9 col10\" >0.01</td>\n",
       "    </tr>\n",
       "    <tr>\n",
       "      <th id=\"T_6656a_level0_row10\" class=\"row_heading level0 row10\" >unenrollment_in</th>\n",
       "      <td id=\"T_6656a_row10_col0\" class=\"data row10 col0\" >-0.01</td>\n",
       "      <td id=\"T_6656a_row10_col1\" class=\"data row10 col1\" >0.08</td>\n",
       "      <td id=\"T_6656a_row10_col2\" class=\"data row10 col2\" >0.03</td>\n",
       "      <td id=\"T_6656a_row10_col3\" class=\"data row10 col3\" >0.01</td>\n",
       "      <td id=\"T_6656a_row10_col4\" class=\"data row10 col4\" >-0.16</td>\n",
       "      <td id=\"T_6656a_row10_col5\" class=\"data row10 col5\" >-0.01</td>\n",
       "      <td id=\"T_6656a_row10_col6\" class=\"data row10 col6\" >-0.12</td>\n",
       "      <td id=\"T_6656a_row10_col7\" class=\"data row10 col7\" >0.09</td>\n",
       "      <td id=\"T_6656a_row10_col8\" class=\"data row10 col8\" >0.02</td>\n",
       "      <td id=\"T_6656a_row10_col9\" class=\"data row10 col9\" >0.01</td>\n",
       "      <td id=\"T_6656a_row10_col10\" class=\"data row10 col10\" >1.00</td>\n",
       "    </tr>\n",
       "  </tbody>\n",
       "</table>\n"
      ],
      "text/plain": [
       "<pandas.io.formats.style.Styler at 0x200c5568490>"
      ]
     },
     "execution_count": 15,
     "metadata": {},
     "output_type": "execute_result"
    }
   ],
   "source": [
    "corr = df_clean.corr()\n",
    "corr.style.background_gradient(cmap='coolwarm').format(precision=2)"
   ]
  },
  {
   "cell_type": "markdown",
   "metadata": {},
   "source": [
    "#### Start Modeling Process\n",
    "\n",
    "Choosing logistic regression because it meets the follwoing criteria:\n",
    "1. Interpretability of coefficients\n",
    "2. Binary Outcome - we want a probabilistic model that behaves well in the 0-1 range\n",
    "3. We have removed highly muticollinear variables, so independent assumptions holds for the most part\n"
   ]
  },
  {
   "cell_type": "code",
   "execution_count": 16,
   "metadata": {},
   "outputs": [],
   "source": [
    "df_clean.drop(['age_nr'], axis=1, inplace=True)\n",
    "df_clean.to_csv(\"df_clean_ue2.csv\")"
   ]
  },
  {
   "cell_type": "code",
   "execution_count": 17,
   "metadata": {},
   "outputs": [],
   "source": [
    "test_pct = .2"
   ]
  },
  {
   "cell_type": "code",
   "execution_count": 18,
   "metadata": {},
   "outputs": [],
   "source": [
    "Y = df_clean['unenrollment_in']\n",
    "X = df_clean.drop('unenrollment_in', axis=1)"
   ]
  },
  {
   "cell_type": "code",
   "execution_count": 19,
   "metadata": {},
   "outputs": [],
   "source": [
    "from sklearn.model_selection import train_test_split\n",
    "X_train, X_test, Y_train, Y_test = train_test_split(X, Y, test_size=test_pct, random_state=0)\n",
    "\n",
    "XY_train = pd.concat([Y_train, X_train], axis=1)\n",
    "XY_test = pd.concat([Y_test, X_test], axis=1)\n"
   ]
  },
  {
   "cell_type": "markdown",
   "metadata": {},
   "source": [
    "Import Goodies"
   ]
  },
  {
   "cell_type": "code",
   "execution_count": 20,
   "metadata": {},
   "outputs": [],
   "source": [
    "from sklearn.linear_model import LogisticRegression\n",
    "import xgboost as xgb\n",
    "from sklearn.metrics import classification_report, accuracy_score, confusion_matrix, ConfusionMatrixDisplay, roc_auc_score"
   ]
  },
  {
   "cell_type": "markdown",
   "metadata": {},
   "source": [
    "#### Logistic Regression"
   ]
  },
  {
   "cell_type": "code",
   "execution_count": 21,
   "metadata": {},
   "outputs": [
    {
     "name": "stdout",
     "output_type": "stream",
     "text": [
      "Accuracy Score: 0.8968046097433211\n",
      "Area Under Curve: 0.4997081144191477\n",
      "              precision    recall  f1-score   support\n",
      "\n",
      "           0       0.90      1.00      0.95      1713\n",
      "           1       0.00      0.00      0.00       196\n",
      "\n",
      "    accuracy                           0.90      1909\n",
      "   macro avg       0.45      0.50      0.47      1909\n",
      "weighted avg       0.81      0.90      0.85      1909\n",
      "\n"
     ]
    },
    {
     "data": {
      "text/plain": [
       "<sklearn.metrics._plot.confusion_matrix.ConfusionMatrixDisplay at 0x200c58e93a0>"
      ]
     },
     "execution_count": 21,
     "metadata": {},
     "output_type": "execute_result"
    },
    {
     "data": {
      "image/png": "[encoded data removed]",
      "text/plain": [
       "<Figure size 432x288 with 2 Axes>"
      ]
     },
     "metadata": {
      "needs_background": "light"
     },
     "output_type": "display_data"
    }
   ],
   "source": [
    "\n",
    "\n",
    "# define model\n",
    "logit1 = LogisticRegression(random_state=5, solver='newton-cg',max_iter=10000, class_weight=None)\n",
    "# fit it\n",
    "logit1.fit(X_train,Y_train)\n",
    "# test\n",
    "Y_pred = logit1.predict(X_test)\n",
    "# performance\n",
    "print(f'Accuracy Score: {accuracy_score(Y_test,Y_pred)}')\n",
    "print(f'Area Under Curve: {roc_auc_score(Y_test, Y_pred)}')\n",
    "\n",
    "print(classification_report(Y_test, Y_pred))\n",
    "disp = ConfusionMatrixDisplay(confusion_matrix=confusion_matrix(Y_test, Y_pred), display_labels=logit1.classes_)\n",
    "disp.plot()"
   ]
  },
  {
   "cell_type": "code",
   "execution_count": 22,
   "metadata": {},
   "outputs": [
    {
     "name": "stdout",
     "output_type": "stream",
     "text": [
      "Accuracy Score: 0.748035620743845\n",
      "Area Under Curve: 0.683390519079786\n",
      "              precision    recall  f1-score   support\n",
      "\n",
      "           0       0.94      0.76      0.84      1713\n",
      "           1       0.23      0.60      0.33       196\n",
      "\n",
      "    accuracy                           0.75      1909\n",
      "   macro avg       0.59      0.68      0.59      1909\n",
      "weighted avg       0.87      0.75      0.79      1909\n",
      "\n"
     ]
    },
    {
     "data": {
      "text/plain": [
       "<sklearn.metrics._plot.confusion_matrix.ConfusionMatrixDisplay at 0x200c7cde3a0>"
      ]
     },
     "execution_count": 22,
     "metadata": {},
     "output_type": "execute_result"
    },
    {
     "data": {
      "image/png": "[encoded data removed]",
      "text/plain": [
       "<Figure size 432x288 with 2 Axes>"
      ]
     },
     "metadata": {
      "needs_background": "light"
     },
     "output_type": "display_data"
    }
   ],
   "source": [
    "#define weights\n",
    "w = {0:1, 1:7}\n",
    "\n",
    "# define model\n",
    "logit2 = LogisticRegression(random_state=1, solver='newton-cg',max_iter=10000, class_weight=w)\n",
    "# fit it\n",
    "logit2.fit(X_train,Y_train)\n",
    "# test\n",
    "Y_pred = logit2.predict(X_test)\n",
    "# performance\n",
    "print(f'Accuracy Score: {accuracy_score(Y_test,Y_pred)}')\n",
    "print(f'Area Under Curve: {roc_auc_score(Y_test, Y_pred)}')\n",
    "\n",
    "print(classification_report(Y_test, Y_pred))\n",
    "disp = ConfusionMatrixDisplay(confusion_matrix=confusion_matrix(Y_test, Y_pred), display_labels=logit2.classes_)\n",
    "disp.plot()\n"
   ]
  },
  {
   "cell_type": "markdown",
   "metadata": {},
   "source": [
    "#### XGBoost"
   ]
  },
  {
   "cell_type": "markdown",
   "metadata": {},
   "source": [
    "Choosing xgboost as an alternate model because it meets the follwoing criteria:\n",
    "1. Feature space is relatively small, so the tree structure will not bee to o hard to decipher/\n",
    "2. Binary Outcome - we want a 2 class classifier\n",
    "3. The model requires less data cleanup and is one of the most accurate out there, even though there's lots of hyperparameters to tweak.\n",
    "4. Note: For this exercise, I ran it with the same training set as the logistic set just to compare metrics against the same set. In real life, IRL I would have optimized the input data set for XGB\n"
   ]
  },
  {
   "cell_type": "code",
   "execution_count": 23,
   "metadata": {},
   "outputs": [
    {
     "name": "stdout",
     "output_type": "stream",
     "text": [
      "[22:02:25] WARNING: ..\\src\\learner.cc:1115: Starting in XGBoost 1.3.0, the default evaluation metric used with the objective 'binary:logistic' was changed from 'error' to 'logloss'. Explicitly set eval_metric if you'd like to restore the old behavior.\n"
     ]
    },
    {
     "name": "stderr",
     "output_type": "stream",
     "text": [
      "C:\\Users\\delao\\miniconda3\\lib\\site-packages\\xgboost\\sklearn.py:1224: UserWarning: The use of label encoder in XGBClassifier is deprecated and will be removed in a future release. To remove this warning, do the following: 1) Pass option use_label_encoder=False when constructing XGBClassifier object; and 2) Encode your labels (y) as integers starting with 0, i.e. 0, 1, 2, ..., [num_class - 1].\n",
      "  warnings.warn(label_encoder_deprecation_msg, UserWarning)\n"
     ]
    },
    {
     "name": "stdout",
     "output_type": "stream",
     "text": [
      "Accuracy Score: 0.8978522786799371\n",
      "Area Under Curve: 0.5590293910909372\n",
      "              precision    recall  f1-score   support\n",
      "\n",
      "           0       0.91      0.99      0.95      1713\n",
      "           1       0.51      0.13      0.21       196\n",
      "\n",
      "    accuracy                           0.90      1909\n",
      "   macro avg       0.71      0.56      0.58      1909\n",
      "weighted avg       0.87      0.90      0.87      1909\n",
      "\n"
     ]
    },
    {
     "data": {
      "text/plain": [
       "<sklearn.metrics._plot.confusion_matrix.ConfusionMatrixDisplay at 0x200c7d8d970>"
      ]
     },
     "execution_count": 23,
     "metadata": {},
     "output_type": "execute_result"
    },
    {
     "data": {
      "image/png": "[encoded data removed]",
      "text/plain": [
       "<Figure size 432x288 with 2 Axes>"
      ]
     },
     "metadata": {
      "needs_background": "light"
     },
     "output_type": "display_data"
    }
   ],
   "source": [
    "\n",
    "\n",
    "xgb1 = xgb.XGBClassifier()\n",
    "\n",
    "xgb1.fit(X_train, Y_train)\n",
    "\n",
    "Y_pred = xgb1.predict(X_test)\n",
    "\n",
    "print(f'Accuracy Score: {accuracy_score(Y_test,Y_pred)}')\n",
    "print(f'Area Under Curve: {roc_auc_score(Y_test, Y_pred)}')\n",
    "\n",
    "print(classification_report(Y_test, Y_pred))\n",
    "\n",
    "disp = ConfusionMatrixDisplay(confusion_matrix=confusion_matrix(Y_test, Y_pred), display_labels=xgb1.classes_)\n",
    "disp.plot()"
   ]
  },
  {
   "cell_type": "code",
   "execution_count": 24,
   "metadata": {},
   "outputs": [
    {
     "name": "stdout",
     "output_type": "stream",
     "text": [
      "[22:02:26] WARNING: ..\\src\\learner.cc:1115: Starting in XGBoost 1.3.0, the default evaluation metric used with the objective 'binary:logistic' was changed from 'error' to 'logloss'. Explicitly set eval_metric if you'd like to restore the old behavior.\n"
     ]
    },
    {
     "name": "stderr",
     "output_type": "stream",
     "text": [
      "C:\\Users\\delao\\miniconda3\\lib\\site-packages\\xgboost\\sklearn.py:1224: UserWarning: The use of label encoder in XGBClassifier is deprecated and will be removed in a future release. To remove this warning, do the following: 1) Pass option use_label_encoder=False when constructing XGBClassifier object; and 2) Encode your labels (y) as integers starting with 0, i.e. 0, 1, 2, ..., [num_class - 1].\n",
      "  warnings.warn(label_encoder_deprecation_msg, UserWarning)\n"
     ]
    },
    {
     "name": "stdout",
     "output_type": "stream",
     "text": [
      "Accuracy Score: 0.7757988475641697\n",
      "Area Under Curve: 0.6785282414191597\n",
      "              precision    recall  f1-score   support\n",
      "\n",
      "           0       0.94      0.80      0.87      1713\n",
      "           1       0.24      0.56      0.34       196\n",
      "\n",
      "    accuracy                           0.78      1909\n",
      "   macro avg       0.59      0.68      0.60      1909\n",
      "weighted avg       0.87      0.78      0.81      1909\n",
      "\n"
     ]
    },
    {
     "data": {
      "text/plain": [
       "<sklearn.metrics._plot.confusion_matrix.ConfusionMatrixDisplay at 0x200c7cee970>"
      ]
     },
     "execution_count": 24,
     "metadata": {},
     "output_type": "execute_result"
    },
    {
     "data": {
      "image/png": "[encoded data removed]",
      "text/plain": [
       "<Figure size 432x288 with 2 Axes>"
      ]
     },
     "metadata": {
      "needs_background": "light"
     },
     "output_type": "display_data"
    }
   ],
   "source": [
    "\n",
    "xgb2 = xgb.XGBClassifier(n_estimators=1000, learning_rate=0.005, scale_pos_weight=8)\n",
    "\n",
    "xgb2.fit(X_train, Y_train, early_stopping_rounds=5, eval_set=[(X_test, Y_test)], verbose=False)\n",
    "\n",
    "Y_pred = xgb2.predict(X_test)\n",
    "\n",
    "print(f'Accuracy Score: {accuracy_score(Y_test,Y_pred)}')\n",
    "print(f'Area Under Curve: {roc_auc_score(Y_test, Y_pred)}')\n",
    "\n",
    "print(classification_report(Y_test, Y_pred))\n",
    "\n",
    "disp = ConfusionMatrixDisplay(confusion_matrix=confusion_matrix(Y_test, Y_pred), display_labels=xgb1.classes_)\n",
    "disp.plot()"
   ]
  },
  {
   "cell_type": "code",
   "execution_count": null,
   "metadata": {},
   "outputs": [],
   "source": []
  }
 ],
 "metadata": {
  "interpreter": {
   "hash": "82bb708130b7a8c0f6c6959998e1286ab3ba864d11dec1d07a13c21e619cde87"
  },
  "kernelspec": {
   "display_name": "Python 3.9.5 64-bit ('base': conda)",
   "language": "python",
   "name": "python3"
  },
  "language_info": {
   "codemirror_mode": {
    "name": "ipython",
    "version": 3
   },
   "file_extension": ".py",
   "mimetype": "text/x-python",
   "name": "python",
   "nbconvert_exporter": "python",
   "pygments_lexer": "ipython3",
   "version": "3.9.5"
  },
  "orig_nbformat": 4
 },
 "nbformat": 4,
 "nbformat_minor": 2
}
